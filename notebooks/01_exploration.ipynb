{
 "cells": [
  {
   "cell_type": "code",
   "execution_count": 1,
   "id": "a206df93",
   "metadata": {},
   "outputs": [],
   "source": [
    "import sys\n",
    "from pathlib import Path\n",
    "\n",
    "sys.path.append(str(Path().resolve().parent)) #katalog główny repo do sys.path"
   ]
  },
  {
   "cell_type": "code",
   "execution_count": 2,
   "id": "4adb9161",
   "metadata": {},
   "outputs": [
    {
     "name": "stdout",
     "output_type": "stream",
     "text": [
      "Data path: C:\\Users\\wszyl\\Desktop\\CV\\Licencjat\\CustomerChurnPrediction\\Customer-Churn-Prediction\\data\\raw\n"
     ]
    }
   ],
   "source": [
    "from src.data_loading import load_data, merge_data\n",
    "\n",
    "transactions_df, customers_df, articles_df = load_data()\n",
    "df = merge_data(transactions_df, articles_df)\n"
   ]
  }
 ],
 "metadata": {
  "kernelspec": {
   "display_name": ".venv",
   "language": "python",
   "name": "python3"
  },
  "language_info": {
   "codemirror_mode": {
    "name": "ipython",
    "version": 3
   },
   "file_extension": ".py",
   "mimetype": "text/x-python",
   "name": "python",
   "nbconvert_exporter": "python",
   "pygments_lexer": "ipython3",
   "version": "3.12.9"
  }
 },
 "nbformat": 4,
 "nbformat_minor": 5
}
